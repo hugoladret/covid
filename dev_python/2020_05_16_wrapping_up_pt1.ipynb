{
 "cells": [
  {
   "cell_type": "code",
   "execution_count": 1,
   "metadata": {
    "ExecuteTime": {
     "end_time": "2020-05-16T20:04:03.067005Z",
     "start_time": "2020-05-16T20:04:03.059451Z"
    }
   },
   "outputs": [],
   "source": [
    "%load_ext autoreload\n",
    "%autoreload 2"
   ]
  },
  {
   "cell_type": "markdown",
   "metadata": {},
   "source": [
    "# Merging everything together, without MonteCarlo sims"
   ]
  },
  {
   "cell_type": "code",
   "execution_count": 2,
   "metadata": {
    "ExecuteTime": {
     "end_time": "2020-05-16T20:04:04.343340Z",
     "start_time": "2020-05-16T20:04:03.068181Z"
    }
   },
   "outputs": [],
   "source": [
    "import matplotlib.pyplot as plt\n",
    "import numpy as np\n",
    "\n",
    "from tqdm import tqdm\n",
    "import copy\n",
    "import os, sys\n",
    "\n",
    "import brian2 as b2\n",
    "import neurom as nm\n",
    "import pyrho as pr\n",
    "\n",
    "import warnings\n",
    "\n",
    "from allensdk.core.cell_types_cache import CellTypesCache\n",
    "from allensdk.core.cell_types_cache import CellTypesCache\n",
    "from allensdk.api.queries.cell_types_api import CellTypesApi\n",
    "from allensdk.core.cell_types_cache import ReporterStatus as RS\n",
    "\n",
    "warnings.filterwarnings('ignore')\n",
    "b2.prefs.codegen.target = 'numpy' #PyRhO has weird zerodiv with Cython Brian"
   ]
  },
  {
   "cell_type": "code",
   "execution_count": 3,
   "metadata": {
    "ExecuteTime": {
     "end_time": "2020-05-16T20:04:04.357330Z",
     "start_time": "2020-05-16T20:04:04.344450Z"
    }
   },
   "outputs": [],
   "source": [
    "# thanks https://stackoverflow.com/questions/8391411/suppress-calls-to-print-python\n",
    "class HiddenPrints:\n",
    "    def __enter__(self):\n",
    "        self._original_stdout = sys.stdout\n",
    "        sys.stdout = open(os.devnull, 'w')\n",
    "\n",
    "    def __exit__(self, exc_type, exc_val, exc_tb):\n",
    "        sys.stdout.close()\n",
    "        sys.stdout = self._original_stdout"
   ]
  },
  {
   "cell_type": "markdown",
   "metadata": {},
   "source": [
    "# Parameters"
   ]
  },
  {
   "cell_type": "code",
   "execution_count": 4,
   "metadata": {
    "ExecuteTime": {
     "end_time": "2020-05-16T20:04:04.372006Z",
     "start_time": "2020-05-16T20:04:04.358227Z"
    }
   },
   "outputs": [],
   "source": [
    "### Morphological parameters\n",
    "# Relative percentage of E/I cells\n",
    "frac_exc = .85\n",
    "frac_inh = 1.-frac_exc\n",
    "\n",
    "# Layer median thickness (um)\n",
    "layer_thickness = {1 : 100,\n",
    "                  2 : 210,\n",
    "                  4 : 120,\n",
    "                  5 : 220,\n",
    "                  6 : 200}\n",
    "\n",
    "# Cell counts per layer (scaled)\n",
    "density_scale = .001\n",
    "layer_density = {1 : 0 * density_scale,\n",
    "                2 : 65949 * density_scale,\n",
    "                4 : 53837 * density_scale,\n",
    "                5 : 39480 * density_scale,\n",
    "                6 : 67296 * density_scale}\n",
    "\n",
    "# Layer morphotypes {layer : [(type, fraction)]}\n",
    "layer_morphology = {1 : [('NO CELLS', .0)],\n",
    "                    2 : [('Cux2', 1.)],\n",
    "                    4 : [('Scnn1a', .3),\n",
    "                         ('Rorb', .25),\n",
    "                         ('Nr5a1', .12)],\n",
    "                    5 : [('Rbp4', 1.)],\n",
    "                    6 : [('Ntsr1', .8)]}\n",
    "\n",
    "# Morphology files save path\n",
    "morpho_path = '../morphologies/'"
   ]
  },
  {
   "cell_type": "code",
   "execution_count": 5,
   "metadata": {
    "ExecuteTime": {
     "end_time": "2020-05-16T20:04:04.386104Z",
     "start_time": "2020-05-16T20:04:04.372881Z"
    }
   },
   "outputs": [],
   "source": [
    "### Network parameters\n",
    "# Defining the ChR2 model\n",
    "n_states = '3' #number of states in the channel model : 3, 4 or 6\n",
    "params = pr.modelFits[n_states]['ChR2'] #only ChR2 seems to be pre-packed with pyrho\n",
    "\n",
    "# Defining the pyrho model\n",
    "rho = pr.models[n_states](params)\n",
    "\n",
    "# Defining the equations\n",
    "netParams = {'tau_m':10*b2.ms,\n",
    "             'R_m':70*b2.Mohm,\n",
    "             'E_m':-70*b2.mV,\n",
    "             'v_t0':-50*b2.mV,\n",
    "             'sigma':10*b2.mV,\n",
    "             't_ref':4*b2.ms}\n",
    "eq_opto = '''\n",
    "dv/dt = ((-I*R_m)+E_m-v)/tau_m + sigma*xi*tau_m**-0.5 : volt\n",
    "''' + rho.brian_phi_t # writes the model in a brian-interpretable string\n",
    "eq_norm = '''\n",
    "dv/dt = (E_m-v)/tau_m + sigma*xi*tau_m**-0.5 : volt\n",
    "'''\n",
    "\n",
    "sim_duration = 150 # ms, length of the simulation"
   ]
  },
  {
   "cell_type": "code",
   "execution_count": 6,
   "metadata": {
    "ExecuteTime": {
     "end_time": "2020-05-16T20:04:04.398768Z",
     "start_time": "2020-05-16T20:04:04.386928Z"
    }
   },
   "outputs": [],
   "source": [
    "### Physical model parameters\n",
    "n_voxels = 10 # nbr of voxels along one axis (so n_voxels^3 total)\n",
    "voxel_size = 101 #um, size of a voxel"
   ]
  },
  {
   "cell_type": "markdown",
   "metadata": {},
   "source": [
    "# Fetching data from Allen DB"
   ]
  },
  {
   "cell_type": "code",
   "execution_count": 7,
   "metadata": {
    "ExecuteTime": {
     "end_time": "2020-05-16T20:04:09.487315Z",
     "start_time": "2020-05-16T20:04:04.400320Z"
    }
   },
   "outputs": [
    {
     "name": "stderr",
     "output_type": "stream",
     "text": [
      "Fetching cells...: 100%|████████████████████████████████████████████████████████████| 485/485 [00:04<00:00, 119.81it/s]\n",
      "Loading and shuffling morphologies: 100%|████████████████████████████████████████████████| 5/5 [00:02<00:00,  2.17it/s]\n"
     ]
    }
   ],
   "source": [
    "# Initiates the CellTypes constructor\n",
    "ctc = CellTypesCache(morpho_path) \n",
    "\n",
    "# Get all reconstructed mice neurons\n",
    "cells = ctc.get_cells(require_reconstruction = True, \n",
    "                      species=[CellTypesApi.MOUSE])\n",
    "\n",
    "# Filter cells to keep only V1 neurons with a specific names\n",
    "layer_dict = {1 : [], 2 : [], 4 : [], 5 : [], 6 : []}\n",
    "for cell in tqdm(cells, total = len(cells), desc = 'Fetching cells...') :\n",
    "    if cell['structure_area_abbrev'] == 'VISp':\n",
    "        layer = int(cell['structure_layer_name'][0]) #[0] eliminates the 2/3, 6a, 4b...\n",
    "        morphotypes = layer_morphology[layer] # get the layer morphotypes names\n",
    "        for types in morphotypes :\n",
    "            if types[0] in cell['name'] :\n",
    "                morpho = ctc.get_reconstruction(specimen_id = cell['id'],\n",
    "                                            file_name = morpho_path + cell['name']  + '.swc')\n",
    "                layer_dict[layer].append([cell['name'], cell['id'], morpho, morpho_path + cell['name']  + '.swc' ])\n",
    "    else :\n",
    "        pass\n",
    "    \n",
    "layer_array = {1 : [], 2 : [], 4 : [], 5 : [], 6 : []}\n",
    "for layer, items in tqdm(layer_dict.items(), total = len(layer_dict), desc = 'Loading and shuffling morphologies') :\n",
    "    _ = []\n",
    "    for morph_tuples in layer_morphology[layer] :\n",
    "        name_morpho, fract_morpho = morph_tuples[0], morph_tuples[1]\n",
    "        \n",
    "        n_cells = fract_morpho * layer_density[layer]\n",
    "        \n",
    "        morpholist = [nm.load_neuron(x[-1]) for x in layer_dict[layer] if name_morpho in x[0]]\n",
    "        morphonames = [x[0] for x in layer_dict[layer] if name_morpho in x[0]]\n",
    "        morph_array = np.resize(morpholist, int(n_cells))\n",
    "        np.random.shuffle(morph_array)\n",
    "        \n",
    "        _.append(morph_array)\n",
    "    layer_array[layer].append(np.concatenate(_))"
   ]
  },
  {
   "cell_type": "markdown",
   "metadata": {},
   "source": [
    "# Simulating a random voxel matrix "
   ]
  },
  {
   "cell_type": "code",
   "execution_count": 8,
   "metadata": {
    "ExecuteTime": {
     "end_time": "2020-05-16T20:04:09.502461Z",
     "start_time": "2020-05-16T20:04:09.488716Z"
    }
   },
   "outputs": [],
   "source": [
    "X, Y, Z = np.mgrid[0 : n_voxels * voxel_size: np.complex(n_voxels),\n",
    "                   0 : n_voxels * voxel_size: np.complex(n_voxels),\n",
    "                   0 : -n_voxels * voxel_size: np.complex(n_voxels)]\n",
    "voxel_matrix = np.vstack([X.ravel(), Y.ravel(), Z.ravel()])\n",
    "\n",
    "light_matrix = np.random.random_sample(size = (n_voxels, n_voxels, n_voxels))"
   ]
  },
  {
   "cell_type": "markdown",
   "metadata": {},
   "source": [
    "# Relocating cells into their respective layers and simulating"
   ]
  },
  {
   "cell_type": "code",
   "execution_count": 9,
   "metadata": {
    "ExecuteTime": {
     "start_time": "2020-05-16T20:10:51.506Z"
    }
   },
   "outputs": [
    {
     "name": "stderr",
     "output_type": "stream",
     "text": [
      "Simulating layer 2 neurons...: 100%|███████████████████████████████████████████████████| 65/65 [00:21<00:00,  3.05it/s]\n",
      "Simulating layer 4 neurons...: 100%|███████████████████████████████████████████████████| 35/35 [00:11<00:00,  3.15it/s]\n",
      "Simulating layer 5 neurons...: 100%|███████████████████████████████████████████████████| 39/39 [00:12<00:00,  3.03it/s]\n",
      "Simulating layer 6 neurons...: 100%|███████████████████████████████████████████████████| 53/53 [00:17<00:00,  3.10it/s]\n"
     ]
    }
   ],
   "source": [
    "curr_z = 0  # depth, iterates negatively layer by layer\n",
    "\n",
    "results_dict = {1 : [], 2 : [], 4 : [], 5 : [], 6 : []}\n",
    "for layer, items in layer_array.items():\n",
    "    if layer == 1 : continue # No neurons in layer1\n",
    "        \n",
    "    # Aliasing, array of all neuromorph objects\n",
    "    layer_content = items[0]\n",
    "\n",
    "    # Coordinates of the layer's neurons, X and Y\n",
    "    safety_margin = n_voxels * voxel_size / np.sqrt(len(layer_content))\n",
    "    xs = np.arange(0, n_voxels * voxel_size, safety_margin)\n",
    "    ys = np.arange(0, n_voxels * voxel_size, safety_margin)\n",
    "    xx, yy = np.meshgrid(xs, ys)\n",
    "    mesh = np.dstack([xx, yy]).reshape(-1, 2)\n",
    "    \n",
    "    # In the Z axis\n",
    "    zs = np.linspace(0., .75, 5, endpoint = False)\n",
    "    if zs.size == 0: zs = np.array([0], dtype=np.int16)\n",
    "    \n",
    "    \n",
    "    # Iterating through neurons in the layer, gettings the xyz coordinates\n",
    "    for i0, _ in tqdm(enumerate(layer_content), total = len(layer_content),\n",
    "                               desc = 'Simulating layer %s neurons...' % layer) :\n",
    "        x = mesh[i0][0]\n",
    "        y = mesh[i0][1]\n",
    "        z = np.random.choice(zs) * layer_thickness[layer] + curr_z\n",
    "        points = layer_content[i0].points\n",
    "        pts_list = []\n",
    "        for pts in points :\n",
    "            pts_list.append([ x+ pts[0], y + pts[1], z + pts[2]])\n",
    "            \n",
    "        # Getting the light value for each point\n",
    "        light_vals = []\n",
    "        for pt in pts_list :\n",
    "            vox_idx = np.int16(np.abs(np.array(pt) / (voxel_size*n_voxels)))\n",
    "            light_vals.append(light_matrix[vox_idx[0], vox_idx[1], vox_idx[2]])\n",
    "        total_light = np.sum(light_vals)\n",
    "          \n",
    "        # Start the simulation scope    \n",
    "        b2.start_scope()\n",
    "        \n",
    "        # Defining the stimulation protocol \n",
    "        protocol = pr.protocols['step']()\n",
    "        protocol.phis = [total_light*1e15] #photons <------ improve this\n",
    "        protocol.Vs = [None]\n",
    "        protocol.cycles = [[sim_duration, 0]] #on-off times\n",
    "        \n",
    "        # Defining the neuron\n",
    "        neuron = b2.NeuronGroup(1, eq_opto, threshold='v>v_t0', reset='v=E_m', refractory='t_ref', \n",
    "                                namespace=netParams, name='Inputs', method='euler')\n",
    "\n",
    "        # Set up the recording\n",
    "        net = b2.Network(b2.collect())\n",
    "        monitors = {'states' : b2.StateMonitor(neuron, rho.brianStateVars, record=0),   # Record states\n",
    "                    'I'      : b2.StateMonitor(neuron, 'I', record=0),                  # Record current\n",
    "                    'V'      : b2.StateMonitor(neuron, 'v', record=0),                  # Record voltage, \n",
    "                    'spikes' : [b2.SpikeMonitor(neuron, name='neuron')]}\n",
    "        net.add(monitors)\n",
    "\n",
    "        # And here we go\n",
    "        sim = pr.simulators['Brian'](protocol, \n",
    "                                    rho, \n",
    "                                    pr.simParams['Brian'],\n",
    "                                    net,\n",
    "                                    netParams,\n",
    "                                    monitors)\n",
    "        with HiddenPrints(): # no damn verbosity control on this guy\n",
    "            sim.run(verbose = 0)\n",
    "            \n",
    "        # Save the variables\n",
    "        results_dict[layer].append({'photons' : total_light,\n",
    "                                  'spikes' : monitors['spikes'][0].spike_trains()})\n",
    "\n",
    "    # Updating layer depth and moving to next layer\n",
    "    curr_z -= layer_thickness[layer]"
   ]
  },
  {
   "cell_type": "markdown",
   "metadata": {
    "ExecuteTime": {
     "end_time": "2020-05-16T20:08:32.583861Z",
     "start_time": "2020-05-16T20:08:32.571274Z"
    }
   },
   "source": [
    "# Seeing some results"
   ]
  },
  {
   "cell_type": "code",
   "execution_count": 10,
   "metadata": {
    "ExecuteTime": {
     "end_time": "2020-05-16T20:10:00.925888Z",
     "start_time": "2020-05-16T20:10:00.909848Z"
    }
   },
   "outputs": [],
   "source": [
    "for layer, r_list in results_dict.items() :\n",
    "    trains = [x['spikes'] for x in r_list]"
   ]
  },
  {
   "cell_type": "code",
   "execution_count": 11,
   "metadata": {
    "ExecuteTime": {
     "end_time": "2020-05-16T20:10:35.501241Z",
     "start_time": "2020-05-16T20:10:35.485129Z"
    }
   },
   "outputs": [
    {
     "data": {
      "text/plain": [
       "{0: array([  0. ,  25.8,  29.8,  33.8,  37.8,  41.8,  45.8,  49.8,  53.8,\n",
       "         57.8,  61.8,  65.8,  69.8,  73.8,  77.8,  81.8,  85.8,  89.8,\n",
       "         93.8,  97.8, 101.8, 105.8, 109.8, 113.8, 117.8, 121.8, 125.8,\n",
       "        129.8, 133.8, 137.8, 141.8, 145.8, 149.8, 153.8, 157.8, 161.8,\n",
       "        165.8, 169.8, 173.8]) * msecond}"
      ]
     },
     "execution_count": 11,
     "metadata": {},
     "output_type": "execute_result"
    }
   ],
   "source": [
    "trains[0]"
   ]
  },
  {
   "cell_type": "code",
   "execution_count": 12,
   "metadata": {
    "ExecuteTime": {
     "end_time": "2020-05-16T20:05:40.062324Z",
     "start_time": "2020-05-16T20:05:40.045722Z"
    }
   },
   "outputs": [
    {
     "ename": "NameError",
     "evalue": "name 'spikemon' is not defined",
     "output_type": "error",
     "traceback": [
      "\u001b[1;31m---------------------------------------------------------------------------\u001b[0m",
      "\u001b[1;31mNameError\u001b[0m                                 Traceback (most recent call last)",
      "\u001b[1;32m<ipython-input-12-949f06ea2975>\u001b[0m in \u001b[0;36m<module>\u001b[1;34m\u001b[0m\n\u001b[1;32m----> 1\u001b[1;33m \u001b[0mspikemon\u001b[0m\u001b[1;33m.\u001b[0m\u001b[0msp\u001b[0m\u001b[1;33m\u001b[0m\u001b[1;33m\u001b[0m\u001b[0m\n\u001b[0m",
      "\u001b[1;31mNameError\u001b[0m: name 'spikemon' is not defined"
     ]
    }
   ],
   "source": [
    "spikemon.sp"
   ]
  },
  {
   "cell_type": "markdown",
   "metadata": {},
   "source": [
    "# And plotting some figures"
   ]
  },
  {
   "cell_type": "code",
   "execution_count": 35,
   "metadata": {},
   "outputs": [
    {
     "data": {
      "image/png": "[encoded data removed]",
      "text/plain": [
       "<Figure size 432x288 with 2 Axes>"
      ]
     },
     "metadata": {
      "needs_background": "light"
     },
     "output_type": "display_data"
    }
   ],
   "source": [
    "x = np.linspace(0,10,100)\n",
    "y = np.linspace(0,5,100)\n",
    "X, Y = np.meshgrid(x, y)\n",
    "f = np.exp(-X/7.) * np.exp(-((Y-2.5)/1.8)**2)\n",
    "f = np.rot90(f, 3)\n",
    "\n",
    "fig, ax = plt.subplots()\n",
    "i = ax.imshow(f)\n",
    "plt.colorbar(i)\n",
    "plt.show()"
   ]
  }
 ],
 "metadata": {
  "kernelspec": {
   "display_name": "Python 3",
   "language": "python",
   "name": "python3"
  },
  "language_info": {
   "codemirror_mode": {
    "name": "ipython",
    "version": 3
   },
   "file_extension": ".py",
   "mimetype": "text/x-python",
   "name": "python",
   "nbconvert_exporter": "python",
   "pygments_lexer": "ipython3",
   "version": "3.7.4"
  },
  "varInspector": {
   "cols": {
    "lenName": 16,
    "lenType": 16,
    "lenVar": 40
   },
   "kernels_config": {
    "python": {
     "delete_cmd_postfix": "",
     "delete_cmd_prefix": "del ",
     "library": "var_list.py",
     "varRefreshCmd": "print(var_dic_list())"
    },
    "r": {
     "delete_cmd_postfix": ") ",
     "delete_cmd_prefix": "rm(",
     "library": "var_list.r",
     "varRefreshCmd": "cat(var_dic_list()) "
    }
   },
   "types_to_exclude": [
    "module",
    "function",
    "builtin_function_or_method",
    "instance",
    "_Feature"
   ],
   "window_display": false
  }
 },
 "nbformat": 4,
 "nbformat_minor": 2
}
