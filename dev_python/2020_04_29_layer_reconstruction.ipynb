{
 "cells": [
  {
   "cell_type": "markdown",
   "metadata": {},
   "source": [
    "# Reconstructing morphological structure of layers from Allen data\n",
    "See [this file](https://www.dropbox.com/sh/w5u31m3hq6u2x5m/AAD34a7F63f7nRYUq2vLR3sha/build_model/column_structure.xlsx?dl=0) or excel file in morphologies folder for model parameters"
   ]
  },
  {
   "cell_type": "code",
   "execution_count": 1,
   "metadata": {
    "ExecuteTime": {
     "end_time": "2020-04-17T11:35:12.100113Z",
     "start_time": "2020-04-17T11:35:11.701936Z"
    }
   },
   "outputs": [],
   "source": [
    "import matplotlib.pyplot as plt\n",
    "import numpy as np\n",
    "from tqdm import tqdm\n",
    "\n",
    "import brian2 as b2\n",
    "\n",
    "import copy\n",
    "\n",
    "from allensdk.core.cell_types_cache import CellTypesCache\n",
    "from allensdk.core.cell_types_cache import CellTypesCache\n",
    "from allensdk.api.queries.cell_types_api import CellTypesApi\n",
    "from allensdk.core.cell_types_cache import ReporterStatus as RS\n",
    "\n",
    "import neurom as nm\n",
    "from neurom import viewer\n",
    "\n",
    "np.random.seed(42)"
   ]
  },
  {
   "cell_type": "markdown",
   "metadata": {},
   "source": [
    "# Morphological parameters"
   ]
  },
  {
   "cell_type": "code",
   "execution_count": 2,
   "metadata": {},
   "outputs": [],
   "source": [
    "# Relative percentage of E/I cells\n",
    "frac_exc = .85\n",
    "frac_inh = 1.-frac_exc\n",
    "\n",
    "# Layer median thickness (um)\n",
    "layer_thickness = {1 : 100,\n",
    "                  2 : 210,\n",
    "                  4 : 120,\n",
    "                  5 : 220,\n",
    "                  6 : 200}\n",
    "\n",
    "# Cell counts per layer (scaled)\n",
    "density_scale = .001\n",
    "layer_density = {1 : 0 * density_scale,\n",
    "                2 : 65949 * density_scale,\n",
    "                4 : 53837 * density_scale,\n",
    "                5 : 39480 * density_scale,\n",
    "                6 : 67296 * density_scale}\n",
    "\n",
    "# Layer morphotypes {layer : [(type, fraction)]}\n",
    "layer_morphology = {1 : [('NO CELLS', .0)],\n",
    "                    2 : [('Cux2', 1.)],\n",
    "                    4 : [('Scnn1a', .3),\n",
    "                         ('Rorb', .25),\n",
    "                         ('Nr5a1', .12)],\n",
    "                    5 : [('Rbp4', 1.)],\n",
    "                    6 : [('Ntsr1', .8)]}"
   ]
  },
  {
   "cell_type": "markdown",
   "metadata": {},
   "source": [
    "# Querying Allen DBs for morphological files"
   ]
  },
  {
   "cell_type": "code",
   "execution_count": 3,
   "metadata": {},
   "outputs": [
    {
     "name": "stdout",
     "output_type": "stream",
     "text": [
      "Found 485 cells in Allen DB\n"
     ]
    }
   ],
   "source": [
    "# Initiates the CellTypes constructor\n",
    "morpho_path = '../morphologies/'\n",
    "ctc = CellTypesCache(morpho_path) \n",
    "\n",
    "# Get all reconstructed mice neurons\n",
    "cells = ctc.get_cells(require_reconstruction = True, \n",
    "                      species=[CellTypesApi.MOUSE])\n",
    "print('Found %s cells in Allen DB' % len(cells))"
   ]
  },
  {
   "cell_type": "code",
   "execution_count": 12,
   "metadata": {},
   "outputs": [
    {
     "name": "stderr",
     "output_type": "stream",
     "text": [
      "Fetching cells...: 100%|████████████████████████████████████████████████████████████| 485/485 [00:03<00:00, 143.84it/s]\n"
     ]
    }
   ],
   "source": [
    "# Filter cells to keep only V1 neurons with a specific names\n",
    "layer_dict = {1 : [], 2 : [], 4 : [], 5 : [], 6 : []}\n",
    "for cell in tqdm(cells, total = len(cells), desc = 'Fetching cells...') :\n",
    "    if cell['structure_area_abbrev'] == 'VISp':\n",
    "        layer = int(cell['structure_layer_name'][0]) #[0] eliminates the 2/3, 6a, 4b...\n",
    "        morphotypes = layer_morphology[layer] # get the layer morphotypes names\n",
    "        for types in morphotypes :\n",
    "            if types[0] in cell['name'] :\n",
    "                morpho = ctc.get_reconstruction(specimen_id = cell['id'],\n",
    "                                            file_name = morpho_path + cell['name']  + '.swc')\n",
    "                layer_dict[layer].append([cell['name'], cell['id'], morpho, morpho_path + cell['name']  + '.swc' ])\n",
    "    else :\n",
    "        pass"
   ]
  },
  {
   "cell_type": "markdown",
   "metadata": {},
   "source": [
    "# Creating an array of correct proportion of morphotypes for each layer"
   ]
  },
  {
   "cell_type": "code",
   "execution_count": 33,
   "metadata": {},
   "outputs": [
    {
     "name": "stderr",
     "output_type": "stream",
     "text": [
      "Loading and shuffling morphologies: 100%|████████████████████████████████████████████████| 5/5 [00:02<00:00,  2.11it/s]\n"
     ]
    }
   ],
   "source": [
    "layer_array = {1 : [], 2 : [], 4 : [], 5 : [], 6 : []}\n",
    "for layer, items in tqdm(layer_dict.items(), total = len(layer_dict), desc = 'Loading and shuffling morphologies') :\n",
    "    _ = []\n",
    "    for morph_tuples in layer_morphology[layer] :\n",
    "        name_morpho = morph_tuples[0]\n",
    "        fract_morpho = morph_tuples[1]\n",
    "        \n",
    "        density = layer_density[layer]\n",
    "        n_cells = fract_morpho * density\n",
    "        \n",
    "        morpholist = [nm.load_neuron(x[-1]) for x in layer_dict[layer] if name_morpho in x[0]]\n",
    "        morph_array = np.resize(morpholist, int(n_cells))\n",
    "        np.random.shuffle(morph_array)\n",
    "        \n",
    "        _.append(morph_array)\n",
    "    layer_array[layer].append(np.concatenate(_))"
   ]
  },
  {
   "cell_type": "markdown",
   "metadata": {},
   "source": [
    "# Distributing center of mass in a layer volume\n",
    "### ATM with a noisy grid, but later with optimal packing or sphere packing\n",
    "### Note : SVC files coordinates are in micrometers"
   ]
  },
  {
   "cell_type": "code",
   "execution_count": null,
   "metadata": {},
   "outputs": [],
   "source": [
    "w,h = 1000, 1000 #um, size of the volume"
   ]
  },
  {
   "cell_type": "code",
   "execution_count": 56,
   "metadata": {},
   "outputs": [],
   "source": [
    "neurontest = layer_array[2][0][0]"
   ]
  },
  {
   "cell_type": "code",
   "execution_count": 67,
   "metadata": {},
   "outputs": [],
   "source": [
    "center_of_mass = [np.mean(neurontest.points[:,0]),\n",
    "                 np.mean(neurontest.points[:,1]),\n",
    "                 np.mean(neurontest.points[:,2]),]"
   ]
  },
  {
   "cell_type": "code",
   "execution_count": 68,
   "metadata": {},
   "outputs": [
    {
     "data": {
      "text/plain": [
       "[366.76884697336567, 323.8611683884854, 36.08622744148507]"
      ]
     },
     "execution_count": 68,
     "metadata": {},
     "output_type": "execute_result"
    }
   ],
   "source": [
    "center_of_mass"
   ]
  }
 ],
 "metadata": {
  "kernelspec": {
   "display_name": "Python 3",
   "language": "python",
   "name": "python3"
  },
  "language_info": {
   "codemirror_mode": {
    "name": "ipython",
    "version": 3
   },
   "file_extension": ".py",
   "mimetype": "text/x-python",
   "name": "python",
   "nbconvert_exporter": "python",
   "pygments_lexer": "ipython3",
   "version": "3.7.4"
  },
  "varInspector": {
   "cols": {
    "lenName": 16,
    "lenType": 16,
    "lenVar": 40
   },
   "kernels_config": {
    "python": {
     "delete_cmd_postfix": "",
     "delete_cmd_prefix": "del ",
     "library": "var_list.py",
     "varRefreshCmd": "print(var_dic_list())"
    },
    "r": {
     "delete_cmd_postfix": ") ",
     "delete_cmd_prefix": "rm(",
     "library": "var_list.r",
     "varRefreshCmd": "cat(var_dic_list()) "
    }
   },
   "types_to_exclude": [
    "module",
    "function",
    "builtin_function_or_method",
    "instance",
    "_Feature"
   ],
   "window_display": false
  }
 },
 "nbformat": 4,
 "nbformat_minor": 2
}
